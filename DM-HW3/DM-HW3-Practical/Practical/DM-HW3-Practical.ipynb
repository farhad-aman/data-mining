{
 "cells": [
  {
   "cell_type": "markdown",
   "metadata": {},
   "source": [
    "<h1 align=center style=\"line-height:300%;font-family:vazir;color:#0099cc\">\n",
    "<font face=\"vazir\" color=\"#0099cc\">\n",
    "سری سوم تمارین عملی درس داده کاوی\n",
    "</font>\n",
    "</h1>\n",
    "<h3 align=center style=\"line-height:100%;font-family:vazir;color:#0099cc\">\n",
    "استاد درس: دکتر مریم امیر مزلقانی\n",
    "</h3>\n",
    "<h5 align=center style=\"font-size: 20px;line-height:100%;font-family:vazir;color:#0099cc\">\n",
    "طراح تمرین عملی: پوریا جمیع  \n",
    "</h5>\n",
    "<p align=center style=\"font-size: 16;line-height:100%;font-family:vazir;color:#0099cc\">\n",
    "    <a href=\"mailto:Aut.DataMining.Fall@gmail.com\">Aut.DataMining.Fall@gmail.com</a>\n",
    "</p>\n"
   ]
  },
  {
   "cell_type": "markdown",
   "metadata": {},
   "source": [
    "<div dir=\"rtl\">\n",
    "<p align=right style=\"font-size: 16;line-height:100%;font-family:vazir;color:yellow\">\n",
    "لطفا خواسته های تمرین را در بخش خودش انجام دهید.\n",
    "</p>\n",
    "<div dir=\"rtl\">\n",
    "<p align=right style=\"font-size: 16;line-height:100%;font-family:vazir;color:yellow\">\n",
    "میتوانید در صورت نیاز بلوک جدیدی برای هر بخش اضافه کنید تا کد خوانا تر شود.\n",
    "</p>\n",
    "</div>"
   ]
  },
  {
   "cell_type": "markdown",
   "metadata": {},
   "source": [
    "<div dir=\"rtl\">\n",
    "<h3 align=right style=\"font-size: 16;line-height:100%;font-family:vazir;color:white\">\n",
    "خواندن کتابخانه ها\n",
    "</h3>\n",
    "</div>"
   ]
  },
  {
   "cell_type": "code",
   "execution_count": 23,
   "metadata": {
    "ExecuteTime": {
     "end_time": "2023-12-27T22:02:19.452312Z",
     "start_time": "2023-12-27T22:02:19.439324Z"
    }
   },
   "outputs": [],
   "source": [
    "import pandas as pd\n",
    "import matplotlib.pyplot as plt\n",
    "from sklearn.preprocessing import LabelEncoder\n",
    "from sklearn.svm import SVC\n",
    "from sklearn.metrics import classification_report, confusion_matrix\n",
    "from sklearn.neighbors import KNeighborsClassifier\n",
    "from sklearn.naive_bayes import GaussianNB\n",
    "from sklearn.ensemble import RandomForestClassifier\n",
    "from sklearn.neural_network import MLPClassifier"
   ]
  },
  {
   "cell_type": "markdown",
   "metadata": {},
   "source": [
    "\n",
    "in this section we will import all the libraries that we need in this assignment.\n",
    "numpy for working with arrays and matrices.\n",
    "pandas for working with dataframes.\n",
    "matplotlib for plotting.\n",
    "sklearn for machine learning algorithms."
   ]
  },
  {
   "cell_type": "markdown",
   "metadata": {},
   "source": [
    "<div dir=\"rtl\">\n",
    "<h3 align=right style=\"font-size: 16;line-height:100%;font-family:vazir;color:white\">\n",
    "دریافت مجموعه داده\n",
    "</h3>\n",
    "</div>"
   ]
  },
  {
   "cell_type": "code",
   "execution_count": 3,
   "metadata": {
    "ExecuteTime": {
     "end_time": "2023-12-27T21:28:14.018592Z",
     "start_time": "2023-12-27T21:28:13.939226Z"
    }
   },
   "outputs": [],
   "source": [
    "train_df = pd.read_csv(\"Adult_TrainDataset.csv\")\n",
    "test_df = pd.read_csv(\"Adult_TestDataset.csv\")"
   ]
  },
  {
   "cell_type": "markdown",
   "metadata": {},
   "source": [
    "here we read the train and test datasets."
   ]
  },
  {
   "cell_type": "markdown",
   "metadata": {},
   "source": [
    "<div dir=\"rtl\">\n",
    "<h3 align=right style=\"font-size: 16;line-height:100%;font-family:vazir;color:white\">\n",
    "تحلیل و بررسی داده\n",
    "</h3>\n",
    "</div>\n",
    "\n",
    "<div dir=\"rtl\">\n",
    "<p align=right style=\"font-size: 16;line-height:100%;font-family:vazir;color:white\">\n",
    "در این قسمت مجموعه داده را با روش های مختلف از جمله رسم پلات های مختلف بررسی کنید تا یک شهود کلی نسبت به آن داشته باشید. \n",
    "</p>\n",
    "\n",
    "</div>"
   ]
  },
  {
   "cell_type": "code",
   "execution_count": 4,
   "outputs": [
    {
     "data": {
      "text/plain": "   Age         Work_Class  Final_Weight   Education  Education-Number  \\\n0   39          State-gov         77516   Bachelors                13   \n1   50   Self-emp-not-inc         83311   Bachelors                13   \n2   38            Private        215646     HS-grad                 9   \n3   53            Private        234721        11th                 7   \n4   28            Private        338409   Bachelors                13   \n\n        Marital_Status          Occupation    Relationship    Race      Sex  \\\n0        Never-married        Adm-clerical   Not-in-family   White     Male   \n1   Married-civ-spouse     Exec-managerial         Husband   White     Male   \n2             Divorced   Handlers-cleaners   Not-in-family   White     Male   \n3   Married-civ-spouse   Handlers-cleaners         Husband   Black     Male   \n4   Married-civ-spouse      Prof-specialty            Wife   Black   Female   \n\n   Capital_Gain  Capital_Loss  Hours-Per-Week  Native_Country  Income  \n0          2174             0              40   United-States   <=50K  \n1             0             0              13   United-States   <=50K  \n2             0             0              40   United-States   <=50K  \n3             0             0              40   United-States   <=50K  \n4             0             0              40            Cuba   <=50K  ",
      "text/html": "<div>\n<style scoped>\n    .dataframe tbody tr th:only-of-type {\n        vertical-align: middle;\n    }\n\n    .dataframe tbody tr th {\n        vertical-align: top;\n    }\n\n    .dataframe thead th {\n        text-align: right;\n    }\n</style>\n<table border=\"1\" class=\"dataframe\">\n  <thead>\n    <tr style=\"text-align: right;\">\n      <th></th>\n      <th>Age</th>\n      <th>Work_Class</th>\n      <th>Final_Weight</th>\n      <th>Education</th>\n      <th>Education-Number</th>\n      <th>Marital_Status</th>\n      <th>Occupation</th>\n      <th>Relationship</th>\n      <th>Race</th>\n      <th>Sex</th>\n      <th>Capital_Gain</th>\n      <th>Capital_Loss</th>\n      <th>Hours-Per-Week</th>\n      <th>Native_Country</th>\n      <th>Income</th>\n    </tr>\n  </thead>\n  <tbody>\n    <tr>\n      <th>0</th>\n      <td>39</td>\n      <td>State-gov</td>\n      <td>77516</td>\n      <td>Bachelors</td>\n      <td>13</td>\n      <td>Never-married</td>\n      <td>Adm-clerical</td>\n      <td>Not-in-family</td>\n      <td>White</td>\n      <td>Male</td>\n      <td>2174</td>\n      <td>0</td>\n      <td>40</td>\n      <td>United-States</td>\n      <td>&lt;=50K</td>\n    </tr>\n    <tr>\n      <th>1</th>\n      <td>50</td>\n      <td>Self-emp-not-inc</td>\n      <td>83311</td>\n      <td>Bachelors</td>\n      <td>13</td>\n      <td>Married-civ-spouse</td>\n      <td>Exec-managerial</td>\n      <td>Husband</td>\n      <td>White</td>\n      <td>Male</td>\n      <td>0</td>\n      <td>0</td>\n      <td>13</td>\n      <td>United-States</td>\n      <td>&lt;=50K</td>\n    </tr>\n    <tr>\n      <th>2</th>\n      <td>38</td>\n      <td>Private</td>\n      <td>215646</td>\n      <td>HS-grad</td>\n      <td>9</td>\n      <td>Divorced</td>\n      <td>Handlers-cleaners</td>\n      <td>Not-in-family</td>\n      <td>White</td>\n      <td>Male</td>\n      <td>0</td>\n      <td>0</td>\n      <td>40</td>\n      <td>United-States</td>\n      <td>&lt;=50K</td>\n    </tr>\n    <tr>\n      <th>3</th>\n      <td>53</td>\n      <td>Private</td>\n      <td>234721</td>\n      <td>11th</td>\n      <td>7</td>\n      <td>Married-civ-spouse</td>\n      <td>Handlers-cleaners</td>\n      <td>Husband</td>\n      <td>Black</td>\n      <td>Male</td>\n      <td>0</td>\n      <td>0</td>\n      <td>40</td>\n      <td>United-States</td>\n      <td>&lt;=50K</td>\n    </tr>\n    <tr>\n      <th>4</th>\n      <td>28</td>\n      <td>Private</td>\n      <td>338409</td>\n      <td>Bachelors</td>\n      <td>13</td>\n      <td>Married-civ-spouse</td>\n      <td>Prof-specialty</td>\n      <td>Wife</td>\n      <td>Black</td>\n      <td>Female</td>\n      <td>0</td>\n      <td>0</td>\n      <td>40</td>\n      <td>Cuba</td>\n      <td>&lt;=50K</td>\n    </tr>\n  </tbody>\n</table>\n</div>"
     },
     "execution_count": 4,
     "metadata": {},
     "output_type": "execute_result"
    }
   ],
   "source": [
    "train_df.head()"
   ],
   "metadata": {
    "collapsed": false,
    "ExecuteTime": {
     "end_time": "2023-12-27T21:28:15.979035Z",
     "start_time": "2023-12-27T21:28:15.923981Z"
    }
   }
  },
  {
   "cell_type": "markdown",
   "source": [
    "In this section we will analyze the data and try to get a general idea of the data.\n",
    "df.head() returns the first 5 rows of the dataframe."
   ],
   "metadata": {
    "collapsed": false
   }
  },
  {
   "cell_type": "code",
   "execution_count": 5,
   "metadata": {
    "ExecuteTime": {
     "end_time": "2023-12-27T21:28:17.617275Z",
     "start_time": "2023-12-27T21:28:17.471668Z"
    }
   },
   "outputs": [
    {
     "data": {
      "text/plain": "<Figure size 1000x500 with 1 Axes>",
      "image/png": "[encoded data removed]"
     },
     "metadata": {},
     "output_type": "display_data"
    }
   ],
   "source": [
    "train_df.head()\n",
    "plt.figure(figsize=(10,5))\n",
    "plt.pie(train_df['Income'].value_counts(),labels=['<=50K','>50K'],autopct='%1.1f%%')\n",
    "plt.title('Income')\n",
    "plt.show()"
   ]
  },
  {
   "cell_type": "markdown",
   "metadata": {},
   "source": [
    "In this section we will use the pie method to plot a pie chart of the Income column."
   ]
  },
  {
   "cell_type": "code",
   "execution_count": 6,
   "outputs": [
    {
     "data": {
      "text/plain": "<Figure size 1000x500 with 1 Axes>",
      "image/png": "[encoded data removed]"
     },
     "metadata": {},
     "output_type": "display_data"
    }
   ],
   "source": [
    "plt.figure(figsize=(10,5))\n",
    "plt.pie(train_df['Education'].value_counts(),labels=train_df['Education'].value_counts().index,autopct='%1.1f%%')\n",
    "plt.title('Education')\n",
    "plt.show()"
   ],
   "metadata": {
    "collapsed": false,
    "ExecuteTime": {
     "end_time": "2023-12-27T21:28:19.676351Z",
     "start_time": "2023-12-27T21:28:19.550774Z"
    }
   }
  },
  {
   "cell_type": "markdown",
   "source": [
    "In this section we will use the pie method to plot a pie chart of the Education column."
   ],
   "metadata": {
    "collapsed": false
   }
  },
  {
   "cell_type": "markdown",
   "metadata": {},
   "source": [
    "<div dir=\"rtl\">\n",
    "<h3 align=right style=\"font-size: 16;line-height:100%;font-family:vazir;color:white\">\n",
    "پیش پردازش داده\n",
    "</h3>\n",
    "</div>\n",
    "<div dir=\"rtl\">\n",
    "<p align=right style=\"font-size: 16;line-height:100%;font-family:vazir;color:white\">\n",
    "در این بخش با روش های مختلف داده هارا پردازش کرده و تغییرات لازم را روی داده لحاظ کرده تا دقت نهایی افزایش یابد.\n",
    "</p>\n",
    "</div>"
   ]
  },
  {
   "cell_type": "code",
   "execution_count": 10,
   "metadata": {
    "ExecuteTime": {
     "end_time": "2023-12-27T21:31:09.951144Z",
     "start_time": "2023-12-27T21:31:09.852946Z"
    }
   },
   "outputs": [
    {
     "data": {
      "text/plain": "   Age  Work_Class  Final_Weight  Education  Education-Number  Marital_Status  \\\n0   39           7         77516          9                13               4   \n1   50           6         83311          9                13               2   \n2   38           4        215646         11                 9               0   \n3   53           4        234721          1                 7               2   \n4   28           4        338409          9                13               2   \n\n   Occupation  Relationship  Race  Sex  Capital_Gain  Capital_Loss  \\\n0           1             1     4    1          2174             0   \n1           4             0     4    1             0             0   \n2           6             1     4    1             0             0   \n3           6             0     2    1             0             0   \n4          10             5     2    0             0             0   \n\n   Hours-Per-Week  Native_Country Income  \n0              40              39      0  \n1              13              39      0  \n2              40              39      0  \n3              40              39      0  \n4              40               5      0  ",
      "text/html": "<div>\n<style scoped>\n    .dataframe tbody tr th:only-of-type {\n        vertical-align: middle;\n    }\n\n    .dataframe tbody tr th {\n        vertical-align: top;\n    }\n\n    .dataframe thead th {\n        text-align: right;\n    }\n</style>\n<table border=\"1\" class=\"dataframe\">\n  <thead>\n    <tr style=\"text-align: right;\">\n      <th></th>\n      <th>Age</th>\n      <th>Work_Class</th>\n      <th>Final_Weight</th>\n      <th>Education</th>\n      <th>Education-Number</th>\n      <th>Marital_Status</th>\n      <th>Occupation</th>\n      <th>Relationship</th>\n      <th>Race</th>\n      <th>Sex</th>\n      <th>Capital_Gain</th>\n      <th>Capital_Loss</th>\n      <th>Hours-Per-Week</th>\n      <th>Native_Country</th>\n      <th>Income</th>\n    </tr>\n  </thead>\n  <tbody>\n    <tr>\n      <th>0</th>\n      <td>39</td>\n      <td>7</td>\n      <td>77516</td>\n      <td>9</td>\n      <td>13</td>\n      <td>4</td>\n      <td>1</td>\n      <td>1</td>\n      <td>4</td>\n      <td>1</td>\n      <td>2174</td>\n      <td>0</td>\n      <td>40</td>\n      <td>39</td>\n      <td>0</td>\n    </tr>\n    <tr>\n      <th>1</th>\n      <td>50</td>\n      <td>6</td>\n      <td>83311</td>\n      <td>9</td>\n      <td>13</td>\n      <td>2</td>\n      <td>4</td>\n      <td>0</td>\n      <td>4</td>\n      <td>1</td>\n      <td>0</td>\n      <td>0</td>\n      <td>13</td>\n      <td>39</td>\n      <td>0</td>\n    </tr>\n    <tr>\n      <th>2</th>\n      <td>38</td>\n      <td>4</td>\n      <td>215646</td>\n      <td>11</td>\n      <td>9</td>\n      <td>0</td>\n      <td>6</td>\n      <td>1</td>\n      <td>4</td>\n      <td>1</td>\n      <td>0</td>\n      <td>0</td>\n      <td>40</td>\n      <td>39</td>\n      <td>0</td>\n    </tr>\n    <tr>\n      <th>3</th>\n      <td>53</td>\n      <td>4</td>\n      <td>234721</td>\n      <td>1</td>\n      <td>7</td>\n      <td>2</td>\n      <td>6</td>\n      <td>0</td>\n      <td>2</td>\n      <td>1</td>\n      <td>0</td>\n      <td>0</td>\n      <td>40</td>\n      <td>39</td>\n      <td>0</td>\n    </tr>\n    <tr>\n      <th>4</th>\n      <td>28</td>\n      <td>4</td>\n      <td>338409</td>\n      <td>9</td>\n      <td>13</td>\n      <td>2</td>\n      <td>10</td>\n      <td>5</td>\n      <td>2</td>\n      <td>0</td>\n      <td>0</td>\n      <td>0</td>\n      <td>40</td>\n      <td>5</td>\n      <td>0</td>\n    </tr>\n  </tbody>\n</table>\n</div>"
     },
     "execution_count": 10,
     "metadata": {},
     "output_type": "execute_result"
    }
   ],
   "source": [
    "train_df['Income'] = train_df['Income'].astype('category')\n",
    "test_df['Income'] = test_df['Income'].astype('category')\n",
    "label_encoder = LabelEncoder()\n",
    "for col in train_df.columns:\n",
    "    if train_df[col].dtype.name == 'object':\n",
    "        train_df[col] = label_encoder.fit_transform(train_df[col])\n",
    "for col in test_df.columns:\n",
    "    if test_df[col].dtype.name == 'object':\n",
    "        test_df[col] = label_encoder.fit_transform(test_df[col])\n",
    "train_df.head()"
   ]
  },
  {
   "cell_type": "markdown",
   "metadata": {},
   "source": [
    "In this section we will use the LabelEncoder method to encode the categorical columns.\n",
    "in this section we will use the astype method to change the type of the Income column to category."
   ]
  },
  {
   "cell_type": "markdown",
   "metadata": {},
   "source": [
    "<div dir=\"rtl\">\n",
    "<h2 align=right style=\"font-size: 16;line-height:100%;font-family:vazir;color:white\">\n",
    "آموزش مدل با روش های مختلف\n",
    "</h2>\n",
    "</div>\n",
    "<div dir=\"rtl\">\n",
    "<div dir=\"rtl\">\n",
    "<p align=right style=\"font-size: 16;line-height:100%;font-family:vazir;color:white\">\n",
    "دﺭ ﺁﻣﻮﺯﺵ ﻫﺮ ﻣﺪﻝ ، ﺩﺭ ﺻﻮﺭﺕ ﺗﻨﻈﻴﻢ ﻫﺎﻳﭙﺮﭘﺎﺭﺍﻣﺘﺮﻫﺎﻱ ﻣﺪﻝ ﺩﺭ ﻛﺘﺎﺑﺨﺎﻧﻪ sklearn، ﺩﻻﻳﻞ ﺍﻳﻦ ﺍﻧﺘﺨﺎﺏ ﻫﺎ ﻭ ﺗﺤﻠﻴﻞ\n",
    "ﺧﻮﺩﺗﺎﻥ ﺭﺍ ﺍﺯ ﻧﺘﺎﻳﺢ ﺣﺎﺻﻞ ﺷﺪﻩ، ﮔﺰﺍﺭﺵ ﺩﻫﻴﺪ.</p>\n",
    "</div>\n"
   ]
  },
  {
   "cell_type": "markdown",
   "metadata": {},
   "source": [
    "<div dir=\"rtl\">\n",
    "<h3 align=right style=\"font-size: 16;line-height:100%;font-family:times new roman;color:white\">\n",
    "Support Vector Machine\n",
    "</h3>\n",
    "</div>\n",
    "<div dir=\"rtl\">\n",
    "<p align=right style=\"font-size: 16;line-height:100%;font-family:vazir;color:white\">\n",
    "در این قسمت مدل خود را با استفاده از Support Vector Machine آموزش دهید.\n",
    "</p>\n",
    "</div>"
   ]
  },
  {
   "cell_type": "code",
   "execution_count": 12,
   "metadata": {
    "ExecuteTime": {
     "end_time": "2023-12-27T21:33:07.124242Z",
     "start_time": "2023-12-27T21:32:42.498548Z"
    }
   },
   "outputs": [
    {
     "name": "stdout",
     "output_type": "stream",
     "text": [
      "              precision    recall  f1-score   support\n",
      "\n",
      "           0       0.79      1.00      0.88     12435\n",
      "           1       0.96      0.15      0.27      3846\n",
      "\n",
      "    accuracy                           0.80     16281\n",
      "   macro avg       0.88      0.58      0.58     16281\n",
      "weighted avg       0.83      0.80      0.74     16281\n",
      "\n",
      "[[12413    22]\n",
      " [ 3250   596]]\n"
     ]
    }
   ],
   "source": [
    "svm = SVC()\n",
    "svm.fit(train_df.drop('Income',axis=1),train_df['Income'])\n",
    "svm_pred = svm.predict(test_df.drop('Income',axis=1))\n",
    "print(classification_report(test_df['Income'],svm_pred))\n",
    "print(confusion_matrix(test_df['Income'],svm_pred))"
   ]
  },
  {
   "cell_type": "markdown",
   "source": [
    "in this section we will use the SVC method to train our model.\n",
    "in this section we will use the predict method to predict the test data.\n",
    "in this section we will use the classification_report method to print the classification report.\n",
    "in this section we will use the confusion_matrix method to print the confusion matrix."
   ],
   "metadata": {
    "collapsed": false
   }
  },
  {
   "cell_type": "markdown",
   "metadata": {},
   "source": [
    "<div style=\"border-top: 1px dashed #999;\"></div>"
   ]
  },
  {
   "cell_type": "markdown",
   "metadata": {},
   "source": [
    "<div dir=\"rtl\">\n",
    "<h3 align=right style=\"font-size: 16;line-height:100%;font-family:times new roman;color:white\">\n",
    "K-Nearest Neighbors</h3>\n",
    "</div>\n",
    "<div dir=\"rtl\">\n",
    "<p align=right style=\"font-size: 16;line-height:100%;font-family:vazir;color:white\">\n",
    "در این قسمت مدل خود را با استفاده از KNeighborsClassifier آموزش دهید.\n",
    "</p>\n",
    "</div>"
   ]
  },
  {
   "cell_type": "code",
   "execution_count": 14,
   "metadata": {
    "ExecuteTime": {
     "end_time": "2023-12-27T21:56:23.052992Z",
     "start_time": "2023-12-27T21:56:22.479910Z"
    }
   },
   "outputs": [
    {
     "name": "stdout",
     "output_type": "stream",
     "text": [
      "              precision    recall  f1-score   support\n",
      "\n",
      "           0       0.81      0.92      0.86     12435\n",
      "           1       0.54      0.32      0.40      3846\n",
      "\n",
      "    accuracy                           0.78     16281\n",
      "   macro avg       0.68      0.62      0.63     16281\n",
      "weighted avg       0.75      0.78      0.75     16281\n",
      "\n",
      "[[11403  1032]\n",
      " [ 2613  1233]]\n"
     ]
    }
   ],
   "source": [
    "knn = KNeighborsClassifier(n_neighbors=5)\n",
    "knn.fit(train_df.drop('Income',axis=1),train_df['Income'])\n",
    "knn_pred = knn.predict(test_df.drop('Income',axis=1))\n",
    "print(classification_report(test_df['Income'],knn_pred))\n",
    "print(confusion_matrix(test_df['Income'],knn_pred))"
   ]
  },
  {
   "cell_type": "markdown",
   "source": [
    "in this section we will use the KNeighborsClassifier method to train our model.\n",
    "in this section we will use the predict method to predict the test data.\n",
    "in this section we will use the classification_report method to print the classification report.\n",
    "in this section we will use the confusion_matrix method to print the confusion matrix."
   ],
   "metadata": {
    "collapsed": false
   }
  },
  {
   "cell_type": "markdown",
   "metadata": {},
   "source": [
    "<div style=\"border-top: 1px dashed #999;\"></div>"
   ]
  },
  {
   "cell_type": "markdown",
   "metadata": {},
   "source": [
    "<div dir=\"rtl\">\n",
    "<h3 align=right style=\"font-size: 16;line-height:100%;font-family:times new roman;color:white\">\n",
    "Naive Bayes\n",
    "</h3>\n",
    "</div>\n",
    "<div dir=\"rtl\">\n",
    "<p align=right style=\"font-size: 16;line-height:100%;font-family:vazir;color:white\">\n",
    "در این قسمت مدل خود را با استفاده از Naive Bayes آموزش دهید.\n",
    "</p>\n",
    "</div>"
   ]
  },
  {
   "cell_type": "code",
   "execution_count": 17,
   "metadata": {
    "ExecuteTime": {
     "end_time": "2023-12-27T21:57:46.491774Z",
     "start_time": "2023-12-27T21:57:46.440430Z"
    }
   },
   "outputs": [
    {
     "name": "stdout",
     "output_type": "stream",
     "text": [
      "              precision    recall  f1-score   support\n",
      "\n",
      "           0       0.82      0.95      0.88     12435\n",
      "           1       0.64      0.31      0.41      3846\n",
      "\n",
      "    accuracy                           0.80     16281\n",
      "   macro avg       0.73      0.63      0.65     16281\n",
      "weighted avg       0.77      0.80      0.77     16281\n",
      "\n",
      "[[11772   663]\n",
      " [ 2669  1177]]\n"
     ]
    }
   ],
   "source": [
    "nb = GaussianNB()\n",
    "nb.fit(train_df.drop('Income',axis=1),train_df['Income'])\n",
    "nb_pred = nb.predict(test_df.drop('Income',axis=1))\n",
    "print(classification_report(test_df['Income'],nb_pred))\n",
    "print(confusion_matrix(test_df['Income'],nb_pred))"
   ]
  },
  {
   "cell_type": "markdown",
   "source": [
    "in this section we will use the GaussianNB method to train our model.\n",
    "in this section we will use the predict method to predict the test data.\n",
    "in this section we will use the classification_report method to print the classification report.\n",
    "in this section we will use the confusion_matrix method to print the confusion matrix."
   ],
   "metadata": {
    "collapsed": false
   }
  },
  {
   "cell_type": "markdown",
   "metadata": {},
   "source": [
    "<div style=\"border-top: 1px dashed #999;\"></div>"
   ]
  },
  {
   "cell_type": "markdown",
   "metadata": {},
   "source": [
    "<div dir=\"rtl\">\n",
    "<h3 align=right style=\"font-size: 16;line-height:100%;font-family:times new roman;color:white\">\n",
    "Random Forest\n",
    "</h3>\n",
    "</div>\n",
    "<div dir=\"rtl\">\n",
    "<p align=right style=\"font-size: 16;line-height:100%;font-family:vazir;color:white\">\n",
    "در این قسمت مدل خود را با استفاده از RandomForestClassifier آموزش دهید.\n",
    "</p>\n",
    "</div>"
   ]
  },
  {
   "cell_type": "code",
   "execution_count": 19,
   "metadata": {
    "ExecuteTime": {
     "end_time": "2023-12-27T21:58:48.451139Z",
     "start_time": "2023-12-27T21:58:44.854754Z"
    }
   },
   "outputs": [
    {
     "name": "stdout",
     "output_type": "stream",
     "text": [
      "              precision    recall  f1-score   support\n",
      "\n",
      "           0       0.88      0.94      0.91     12435\n",
      "           1       0.74      0.60      0.67      3846\n",
      "\n",
      "    accuracy                           0.86     16281\n",
      "   macro avg       0.81      0.77      0.79     16281\n",
      "weighted avg       0.85      0.86      0.85     16281\n",
      "\n",
      "[[11630   805]\n",
      " [ 1528  2318]]\n"
     ]
    }
   ],
   "source": [
    "rf = RandomForestClassifier(n_estimators=100)\n",
    "rf.fit(train_df.drop('Income',axis=1),train_df['Income'])\n",
    "rf_pred = rf.predict(test_df.drop('Income',axis=1))\n",
    "print(classification_report(test_df['Income'],rf_pred))\n",
    "print(confusion_matrix(test_df['Income'],rf_pred))"
   ]
  },
  {
   "cell_type": "markdown",
   "metadata": {},
   "source": [
    "in this section we will use the RandomForestClassifier method to train our model.\n",
    "in this section we will use the predict method to predict the test data.\n",
    "in this section we will use the classification_report method to print the classification report.\n",
    "in this section we will use the confusion_matrix method to print the confusion matrix."
   ]
  },
  {
   "cell_type": "markdown",
   "metadata": {},
   "source": [
    "<div dir=\"rtl\">\n",
    "<h3 align=right style=\"font-size: 16;line-height:100%;font-family:vazir;color:white\">\n",
    "مقایسه مدل ها</h3>\n",
    "</div>\n",
    "\n",
    "<div dir=\"rtl\">\n",
    "<p align=right style=\"font-size: 16;line-height:100%;font-family:vazir;color:white\">\n",
    "\n",
    "ﺩﺭ ﻧﻬﺎﻳﺖ ﺑﻌﺪ ﺍﺯ ﺁﻣﻮﺯﺵ ﻣﺪﻝ ﻫﺎ، ﺑﺮﺍﻱ ﺍﺭﺯﻳﺎﺑﻲ ﻋﻤﻠﻜﺮﺩ ﻣﺪﻝ ﻫﺎ، ﺍﺯ ﻣﺠﻤﻮﻋﻪ ﺩﺍﺩﻩ\n",
    "<code> Adult_TestDataset </code>\n",
    "ﺍﺳﺘﻔﺎﺩﻩ ﻧﻤﺎﻳﻴﺪ ﻭ ﺑﺎ ﺍﺳﺘﻔﺎﺩﻩ ﺍﺯ ﻣﺎﺗﺮﻳﺲ ﺩﺭﻫﻢ ﺭﻳﺨﺘﮕﻲ\n",
    "<code> (confusion matrix) </code>\n",
    "ﻭ ﻣﻌﻴﺎﺭﻫﺎﻱ ﺍﺭﺯﻳﺎﺑﻲ\n",
    "<code> recall  </code>,\n",
    "<code> precision  </code>,\n",
    "<code> accuracy  </code>,\n",
    "<code> f1-score    </code>\n",
    " ، ﺑﻪ ﺗﺤﻠﻴﻞ ﻧﺘﺎﻳﺞ ﺑﺪﺳﺖ ﺁﻣﺪﻩ ﺑﭙﺮﺩﺍﺯﻳﺪ. ﺗﻮﺟﻪ ﺩﺍﺷﺘﻪ ﺑﺎﺷﻴﺪ ﻛﻪ ﺑﺮﺍﻱ ﺳﺎﺩﮔﻲ ﻛﺎﺭ، ﻣﻲ ﺗﻮﺍﻧﻴﺪ ﺑﺎ ﺍﺳﺘﻔﺎﺩﻩ ﺍﺯ ﺗﻮﺍﺑﻊ ﺁﻣﺎﺩﻩsklearn  ، ﻣﺎﺗﺮﻳﺲ ﺩﺭﻫﻢ ﺭﻳﺨﺘﮕﻲ ﻭ ﻣﻌﻴﺎﺭﻫﺎﻱ ﺍﺭﺯﻳﺎﺑﻲ ﺭﺍ ﺑﺪﺳﺖ ﺁﻭﺭﻳﺪ.\n",
    "\n",
    "</p>\n",
    "</div>"
   ]
  },
  {
   "cell_type": "code",
   "execution_count": 20,
   "metadata": {
    "ExecuteTime": {
     "end_time": "2023-12-27T21:59:34.214455Z",
     "start_time": "2023-12-27T21:59:34.094850Z"
    }
   },
   "outputs": [
    {
     "name": "stdout",
     "output_type": "stream",
     "text": [
      "SVM\n",
      "              precision    recall  f1-score   support\n",
      "\n",
      "           0       0.79      1.00      0.88     12435\n",
      "           1       0.96      0.15      0.27      3846\n",
      "\n",
      "    accuracy                           0.80     16281\n",
      "   macro avg       0.88      0.58      0.58     16281\n",
      "weighted avg       0.83      0.80      0.74     16281\n",
      "\n",
      "[[12413    22]\n",
      " [ 3250   596]]\n",
      "KNN\n",
      "              precision    recall  f1-score   support\n",
      "\n",
      "           0       0.81      0.92      0.86     12435\n",
      "           1       0.54      0.32      0.40      3846\n",
      "\n",
      "    accuracy                           0.78     16281\n",
      "   macro avg       0.68      0.62      0.63     16281\n",
      "weighted avg       0.75      0.78      0.75     16281\n",
      "\n",
      "[[11403  1032]\n",
      " [ 2613  1233]]\n",
      "NB\n",
      "              precision    recall  f1-score   support\n",
      "\n",
      "           0       0.82      0.95      0.88     12435\n",
      "           1       0.64      0.31      0.41      3846\n",
      "\n",
      "    accuracy                           0.80     16281\n",
      "   macro avg       0.73      0.63      0.65     16281\n",
      "weighted avg       0.77      0.80      0.77     16281\n",
      "\n",
      "[[11772   663]\n",
      " [ 2669  1177]]\n",
      "RF\n",
      "              precision    recall  f1-score   support\n",
      "\n",
      "           0       0.88      0.94      0.91     12435\n",
      "           1       0.74      0.60      0.67      3846\n",
      "\n",
      "    accuracy                           0.86     16281\n",
      "   macro avg       0.81      0.77      0.79     16281\n",
      "weighted avg       0.85      0.86      0.85     16281\n",
      "\n",
      "[[11630   805]\n",
      " [ 1528  2318]]\n"
     ]
    }
   ],
   "source": [
    "print('SVM')\n",
    "print(classification_report(test_df['Income'],svm_pred))\n",
    "print(confusion_matrix(test_df['Income'],svm_pred))\n",
    "print('KNN')\n",
    "print(classification_report(test_df['Income'],knn_pred))\n",
    "print(confusion_matrix(test_df['Income'],knn_pred))\n",
    "print('NB')\n",
    "print(classification_report(test_df['Income'],nb_pred))\n",
    "print(confusion_matrix(test_df['Income'],nb_pred))\n",
    "print('RF')\n",
    "print(classification_report(test_df['Income'],rf_pred))\n",
    "print(confusion_matrix(test_df['Income'],rf_pred))"
   ]
  },
  {
   "cell_type": "markdown",
   "metadata": {},
   "source": [
    "<p align=center style=\"font-size: 16;line-height:100%;font-family:vazir;color:#0099cc\">\n",
    "    تحیل شما\n",
    "</p>"
   ]
  },
  {
   "cell_type": "markdown",
   "metadata": {},
   "source": [
    "SVM:\n",
    "    High precision (0.96) for class 1, but very low recall (0.15). It's precise when it predicts class 1, but misses many class 1 instances.\n",
    "    High precision and recall for class 0, indicating good performance on this class.\n",
    "    Overall, the best accuracy (0.80), but its heavy bias towards class 0 might be a concern.\n",
    "\n",
    "KNN:\n",
    "    Lower precision and recall for class 1 compared to SVM, indicating it struggles with class 1 predictions.\n",
    "    Decent performance for class 0 but not as good as SVM.\n",
    "    Overall accuracy (0.78) is lower than SVM.\n",
    "\n",
    "Naive Bayes:\n",
    "    Better balance in precision and recall for class 1 compared to SVM and KNN.\n",
    "    Good performance for class 0 but slightly worse than SVM.\n",
    "    Overall accuracy (0.80) is on par with SVM, but it's more balanced across classes.\n",
    "\n",
    "Random Forest:\n",
    "    Highest recall for class 1 among all models, indicating it's better at identifying class 1 instances.\n",
    "    Good precision and recall for class 0.\n",
    "    Highest overall accuracy (0.86), suggesting it's the most effective model overall.\n",
    "\n",
    "Summary: \n",
    "    SVM excels in accuracy but is heavily biased towards class 0.\n",
    "    KNN shows moderate performance but struggles with class 1.\n",
    "    Naive Bayes provides a more balanced approach between classes.\n",
    "    Random Forest appears to be the best all-rounder, with strong performance in both classes and the highest overall accuracy.    "
   ]
  },
  {
   "cell_type": "markdown",
   "metadata": {},
   "source": [
    "<div dir=\"rtl\">\n",
    "<h3 align=right style=\"font-size: 16;line-height:100%;font-family:vazir;color:green\">\n",
    "بخش امتیازی\n",
    "</h3>\n",
    "\n",
    "<p dir=rtl style=\"direction: rtl;text-align: justify;line-height:200%;font-family:vazir;font-size:medium\">\n",
    "هر روش دیگری برای آموزش مدل را میتوانید در این بخش پیاده سازی نمایید ، اما لازمه آن فهم کامل آن روش هست پس در صورتی که روش دیگری را نیز پیاده سازی کردید فهم خود را از نتایج بدست آمده و خود روش بنویسید.\n",
    "</p>\n",
    "\n",
    "</div>\n",
    "\n"
   ]
  },
  {
   "cell_type": "code",
   "execution_count": 26,
   "outputs": [
    {
     "name": "stdout",
     "output_type": "stream",
     "text": [
      "              precision    recall  f1-score   support\n",
      "\n",
      "           0       0.82      0.90      0.86     12435\n",
      "           1       0.52      0.35      0.42      3846\n",
      "\n",
      "    accuracy                           0.77     16281\n",
      "   macro avg       0.67      0.63      0.64     16281\n",
      "weighted avg       0.75      0.77      0.75     16281\n",
      "\n",
      "[[11194  1241]\n",
      " [ 2482  1364]]\n"
     ]
    }
   ],
   "source": [
    "mlp = MLPClassifier(hidden_layer_sizes=(30,30,30))\n",
    "mlp.fit(train_df.drop('Income',axis=1),train_df['Income'])\n",
    "mlp_pred = mlp.predict(test_df.drop('Income',axis=1))\n",
    "print(classification_report(test_df['Income'],mlp_pred))\n",
    "print(confusion_matrix(test_df['Income'],mlp_pred))"
   ],
   "metadata": {
    "collapsed": false,
    "ExecuteTime": {
     "end_time": "2023-12-27T22:14:28.111955Z",
     "start_time": "2023-12-27T22:14:24.773999Z"
    }
   }
  },
  {
   "cell_type": "markdown",
   "source": [
    "in this section we will use the MLPClassifier method to train our model.\n",
    "we will use the predict method to predict the test data.\n",
    "we will use the classification_report method to print the classification report.\n",
    "we will use the confusion_matrix method to print the confusion matrix."
   ],
   "metadata": {
    "collapsed": false
   }
  },
  {
   "cell_type": "markdown",
   "metadata": {},
   "source": [
    "<p align=center style=\"font-size: 16;line-height:100%;font-family:vazir;color:#0099cc\">\n",
    "    تحیل شما از مدل امتیازی\n",
    "</p>"
   ]
  },
  {
   "cell_type": "markdown",
   "source": [
    "Performance Metrics:\n",
    "    Precision for class 0 (0.82) and class 1 (0.52) shows a decent ability to correctly identify positive cases, but it's better for class 0.\n",
    "    Recall for class 0 (0.90) is high, meaning the model is good at identifying class 0 instances. However, recall for class 1 (0.35) is still low, indicating many class 1 instances are missed.\n",
    "    The F1-score, which balances precision and recall, is good for class 0 (0.86) but not as strong for class 1 (0.42).\n",
    "    The overall accuracy is 0.77, which is a reasonable figure but needs improvement, especially in correctly identifying class 1 instances.\n",
    "\n",
    "Confusion Matrix:\n",
    "    There are 11194 true positives and 1241 false negatives for class 0. This suggests the model is more inclined to correctly predict class 0.\n",
    "    For class 1, there are 1364 true positives but a high number of false negatives (2482), which is consistent with the low recall for class 1.\n",
    "\n",
    "Analysis:\n",
    "    The model's ability to correctly predict class 1 instances (precision) has improved, but it still misses many of these instances (low recall).\n",
    "    Compared to the other models (SVM, KNN, Naive Bayes, Random Forest), the MLP has shown progress but may still not be the best choice, especially if class 1's accurate identification is crucial."
   ],
   "metadata": {
    "collapsed": false
   }
  }
 ],
 "metadata": {
  "kernelspec": {
   "display_name": "Python 3",
   "language": "python",
   "name": "python3"
  },
  "language_info": {
   "codemirror_mode": {
    "name": "ipython",
    "version": 3
   },
   "file_extension": ".py",
   "mimetype": "text/x-python",
   "name": "python",
   "nbconvert_exporter": "python",
   "pygments_lexer": "ipython3",
   "version": "3.10.5"
  }
 },
 "nbformat": 4,
 "nbformat_minor": 2
}
