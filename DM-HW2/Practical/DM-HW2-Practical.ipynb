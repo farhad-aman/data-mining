{
 "cells": [
  {
   "cell_type": "markdown",
   "id": "e4e875a6-0490-4389-829f-a8bfd0979711",
   "metadata": {},
   "source": [
    "\n",
    "<h1 align=center style=\"line-height:300%;font-family:vazir;color:#0099cc\">\n",
    "<font face=\"vazir\" color=\"#0099cc\">\n",
    "سری دوم تمارین عملی درس داده کاوی\n",
    "</font>\n",
    "</h1>\n",
    "<h3 align=center style=\"line-height:100%;font-family:vazir;color:#0099cc\">\n",
    "استاد درس: دکتر مریم امیر مزلقانی\n",
    "</h3>\n",
    "<h5 align=center style=\"font-size: 20px;line-height:100%;font-family:vazir;color:#0099cc\">\n",
    "طراح تمرین عملی: محمد چوپان  \n",
    "    </h5>\n",
    "<p align=center style=\"font-size: 16;line-height:100%;font-family:vazir;color:#0099cc\">\n",
    "    <a href=\"mailto:Aut.DataMining.Fall@gmail.com\">Aut.DataMining.Fall@gmail.com</a>\n",
    "</p>\n"
   ]
  },
  {
   "cell_type": "markdown",
   "id": "4e4c200f-a461-453a-ba3a-9ea0b558ad95",
   "metadata": {},
   "source": [
    "<div dir=\"ltr\">\n",
    "<p style=\"font-size: 16;line-height:100%;font-family:vazir;color:red;dir:rtl\">\n",
    "لطفا خواسته های تمرین را در بخش خودش انجام دهید.\n",
    "دقت کنید نتایج مقایسه ها حتما باید در پاسخ شما وجود داشته باشد.\n",
    "</p>\n",
    "</div>"
   ]
  },
  {
   "cell_type": "markdown",
   "id": "a93d8c93-0f04-4968-80cb-f7f14dd3f9b4",
   "metadata": {},
   "source": [
    "# HW2"
   ]
  },
  {
   "cell_type": "markdown",
   "id": "fbc3183f-34af-4051-97f6-ce78134bf973",
   "metadata": {},
   "source": [
    "## Imports"
   ]
  },
  {
   "cell_type": "code",
   "execution_count": 41,
   "id": "811e5873-e438-4f82-96ae-3bf21c9236ee",
   "metadata": {
    "ExecuteTime": {
     "end_time": "2023-11-24T22:49:13.819597Z",
     "start_time": "2023-11-24T22:49:13.743597Z"
    }
   },
   "outputs": [],
   "source": [
    "import pandas as pd\n",
    "from sklearn.preprocessing import LabelEncoder\n",
    "from sklearn.preprocessing import MinMaxScaler\n",
    "from sklearn.model_selection import train_test_split\n",
    "from sklearn.metrics import mean_squared_error\n",
    "from sklearn.preprocessing import PolynomialFeatures\n",
    "from sklearn.linear_model import LinearRegression\n",
    "from sklearn.tree import DecisionTreeClassifier\n",
    "from sklearn.ensemble import RandomForestClassifier\n",
    "from sklearn.neighbors import KNeighborsClassifier\n",
    "from sklearn.svm import SVC\n",
    "from sklearn.metrics import accuracy_score"
   ]
  },
  {
   "cell_type": "markdown",
   "id": "1eac2907-3789-45a1-841d-a3f543edaef6",
   "metadata": {},
   "source": [
    "## Load data"
   ]
  },
  {
   "cell_type": "markdown",
   "id": "4c327de4-e924-4cca-a1aa-ef0db30cf5ff",
   "metadata": {},
   "source": [
    "<div dir=\"rtl\">\n",
    "\n",
    "<p dir=rtl style=\"direction: rtl;text-align: justify;line-height:200%;font-family:vazir;font-size:medium\">\n",
    "<font face=\"vazir\" size=3>\n",
    "در این مرحله همانند تمرین قبلی داده ها را درون یک دیتا فریم pandas ذخیره میکنید\n",
    "</font>\n",
    "</p>\n",
    "</div>"
   ]
  },
  {
   "cell_type": "code",
   "execution_count": 42,
   "id": "0c104a97-be13-4918-95be-43f57de59d07",
   "metadata": {
    "ExecuteTime": {
     "end_time": "2023-11-24T22:49:21.508124Z",
     "start_time": "2023-11-24T22:49:16.666456Z"
    }
   },
   "outputs": [
    {
     "name": "stdout",
     "output_type": "stream",
     "text": [
      "(44667, 11)\n"
     ]
    },
    {
     "data": {
      "text/plain": "      ville ville_ascii      lat       lng         pays iso2 iso3  \\\n0  A Coruña    A Coruna  43.3667   -8.3833        Spain   ES  ESP   \n1  A Yun Pa    A Yun Pa  13.3939  108.4408      Vietnam   VN  VNM   \n2  Aabenraa    Aabenraa  55.0444    9.4181      Denmark   DK  DNK   \n3    Aachen      Aachen  50.7756    6.0836      Germany   DE  DEU   \n4    Aadorf      Aadorf  47.4939    8.8975  Switzerland   CH  CHE   \n\n                admin_nom capital  population            id  \n0                 Galicia   minor    245468.0  1.724417e+09  \n1                 Gia Lai   minor     53720.0  1.704946e+09  \n2              Syddanmark   minor     16401.0  1.208000e+09  \n3  North Rhine-Westphalia   minor    249070.0  1.276806e+09  \n4                 Thurgau     NaN      9036.0  1.756023e+09  ",
      "text/html": "<div>\n<style scoped>\n    .dataframe tbody tr th:only-of-type {\n        vertical-align: middle;\n    }\n\n    .dataframe tbody tr th {\n        vertical-align: top;\n    }\n\n    .dataframe thead th {\n        text-align: right;\n    }\n</style>\n<table border=\"1\" class=\"dataframe\">\n  <thead>\n    <tr style=\"text-align: right;\">\n      <th></th>\n      <th>ville</th>\n      <th>ville_ascii</th>\n      <th>lat</th>\n      <th>lng</th>\n      <th>pays</th>\n      <th>iso2</th>\n      <th>iso3</th>\n      <th>admin_nom</th>\n      <th>capital</th>\n      <th>population</th>\n      <th>id</th>\n    </tr>\n  </thead>\n  <tbody>\n    <tr>\n      <th>0</th>\n      <td>A Coruña</td>\n      <td>A Coruna</td>\n      <td>43.3667</td>\n      <td>-8.3833</td>\n      <td>Spain</td>\n      <td>ES</td>\n      <td>ESP</td>\n      <td>Galicia</td>\n      <td>minor</td>\n      <td>245468.0</td>\n      <td>1.724417e+09</td>\n    </tr>\n    <tr>\n      <th>1</th>\n      <td>A Yun Pa</td>\n      <td>A Yun Pa</td>\n      <td>13.3939</td>\n      <td>108.4408</td>\n      <td>Vietnam</td>\n      <td>VN</td>\n      <td>VNM</td>\n      <td>Gia Lai</td>\n      <td>minor</td>\n      <td>53720.0</td>\n      <td>1.704946e+09</td>\n    </tr>\n    <tr>\n      <th>2</th>\n      <td>Aabenraa</td>\n      <td>Aabenraa</td>\n      <td>55.0444</td>\n      <td>9.4181</td>\n      <td>Denmark</td>\n      <td>DK</td>\n      <td>DNK</td>\n      <td>Syddanmark</td>\n      <td>minor</td>\n      <td>16401.0</td>\n      <td>1.208000e+09</td>\n    </tr>\n    <tr>\n      <th>3</th>\n      <td>Aachen</td>\n      <td>Aachen</td>\n      <td>50.7756</td>\n      <td>6.0836</td>\n      <td>Germany</td>\n      <td>DE</td>\n      <td>DEU</td>\n      <td>North Rhine-Westphalia</td>\n      <td>minor</td>\n      <td>249070.0</td>\n      <td>1.276806e+09</td>\n    </tr>\n    <tr>\n      <th>4</th>\n      <td>Aadorf</td>\n      <td>Aadorf</td>\n      <td>47.4939</td>\n      <td>8.8975</td>\n      <td>Switzerland</td>\n      <td>CH</td>\n      <td>CHE</td>\n      <td>Thurgau</td>\n      <td>NaN</td>\n      <td>9036.0</td>\n      <td>1.756023e+09</td>\n    </tr>\n  </tbody>\n</table>\n</div>"
     },
     "execution_count": 42,
     "metadata": {},
     "output_type": "execute_result"
    }
   ],
   "source": [
    "df = pd.read_excel('worldcities.xlsx')\n",
    "print(df.shape)\n",
    "df.head()"
   ]
  },
  {
   "cell_type": "markdown",
   "id": "993415e6-2590-4314-b4f7-0e60b8938171",
   "metadata": {},
   "source": [
    " ## Add column"
   ]
  },
  {
   "cell_type": "markdown",
   "id": "48cf5cfc-6c85-45af-abfd-3b15417d2b9f",
   "metadata": {},
   "source": [
    "<div dir=\"rtl\">\n",
    "\n",
    "<p dir=rtl style=\"direction: rtl;text-align: justify;line-height:200%;font-family:vazir;font-size:medium\">\n",
    "<font face=\"vazir\" size=3>\n",
    "در این مرحله با توجه به ستون جمعیت یک ستون جدید تحت عنوان Population Level   اضافه کنید به طوری که به 4 دسته زیر  بر اساس وضعیت هر داده اختصاص داده می شودند.\n",
    "</br>\n",
    "    <div dir=\"ltr\">\n",
    "Low: 0-25%\n",
    "    </br>\n",
    "Mid: 25-50%\n",
    "    </br>\n",
    "High: 50-70%\n",
    "    </br>\n",
    "Over: 70-100%\n",
    "    </div>\n",
    "</font>\n",
    "</p>\n",
    "</div>"
   ]
  },
  {
   "cell_type": "code",
   "execution_count": 43,
   "id": "1072ca6b-2077-4922-bc17-50d98f1a6563",
   "metadata": {
    "ExecuteTime": {
     "end_time": "2023-11-24T22:49:21.530342Z",
     "start_time": "2023-11-24T22:49:21.504127Z"
    }
   },
   "outputs": [
    {
     "data": {
      "text/plain": "      ville ville_ascii      lat       lng         pays iso2 iso3  \\\n0  A Coruña    A Coruna  43.3667   -8.3833        Spain   ES  ESP   \n1  A Yun Pa    A Yun Pa  13.3939  108.4408      Vietnam   VN  VNM   \n2  Aabenraa    Aabenraa  55.0444    9.4181      Denmark   DK  DNK   \n3    Aachen      Aachen  50.7756    6.0836      Germany   DE  DEU   \n4    Aadorf      Aadorf  47.4939    8.8975  Switzerland   CH  CHE   \n\n                admin_nom capital  population            id population_level  \n0                 Galicia   minor    245468.0  1.724417e+09             Over  \n1                 Gia Lai   minor     53720.0  1.704946e+09             Over  \n2              Syddanmark   minor     16401.0  1.208000e+09              Mid  \n3  North Rhine-Westphalia   minor    249070.0  1.276806e+09             Over  \n4                 Thurgau     NaN      9036.0  1.756023e+09              Low  ",
      "text/html": "<div>\n<style scoped>\n    .dataframe tbody tr th:only-of-type {\n        vertical-align: middle;\n    }\n\n    .dataframe tbody tr th {\n        vertical-align: top;\n    }\n\n    .dataframe thead th {\n        text-align: right;\n    }\n</style>\n<table border=\"1\" class=\"dataframe\">\n  <thead>\n    <tr style=\"text-align: right;\">\n      <th></th>\n      <th>ville</th>\n      <th>ville_ascii</th>\n      <th>lat</th>\n      <th>lng</th>\n      <th>pays</th>\n      <th>iso2</th>\n      <th>iso3</th>\n      <th>admin_nom</th>\n      <th>capital</th>\n      <th>population</th>\n      <th>id</th>\n      <th>population_level</th>\n    </tr>\n  </thead>\n  <tbody>\n    <tr>\n      <th>0</th>\n      <td>A Coruña</td>\n      <td>A Coruna</td>\n      <td>43.3667</td>\n      <td>-8.3833</td>\n      <td>Spain</td>\n      <td>ES</td>\n      <td>ESP</td>\n      <td>Galicia</td>\n      <td>minor</td>\n      <td>245468.0</td>\n      <td>1.724417e+09</td>\n      <td>Over</td>\n    </tr>\n    <tr>\n      <th>1</th>\n      <td>A Yun Pa</td>\n      <td>A Yun Pa</td>\n      <td>13.3939</td>\n      <td>108.4408</td>\n      <td>Vietnam</td>\n      <td>VN</td>\n      <td>VNM</td>\n      <td>Gia Lai</td>\n      <td>minor</td>\n      <td>53720.0</td>\n      <td>1.704946e+09</td>\n      <td>Over</td>\n    </tr>\n    <tr>\n      <th>2</th>\n      <td>Aabenraa</td>\n      <td>Aabenraa</td>\n      <td>55.0444</td>\n      <td>9.4181</td>\n      <td>Denmark</td>\n      <td>DK</td>\n      <td>DNK</td>\n      <td>Syddanmark</td>\n      <td>minor</td>\n      <td>16401.0</td>\n      <td>1.208000e+09</td>\n      <td>Mid</td>\n    </tr>\n    <tr>\n      <th>3</th>\n      <td>Aachen</td>\n      <td>Aachen</td>\n      <td>50.7756</td>\n      <td>6.0836</td>\n      <td>Germany</td>\n      <td>DE</td>\n      <td>DEU</td>\n      <td>North Rhine-Westphalia</td>\n      <td>minor</td>\n      <td>249070.0</td>\n      <td>1.276806e+09</td>\n      <td>Over</td>\n    </tr>\n    <tr>\n      <th>4</th>\n      <td>Aadorf</td>\n      <td>Aadorf</td>\n      <td>47.4939</td>\n      <td>8.8975</td>\n      <td>Switzerland</td>\n      <td>CH</td>\n      <td>CHE</td>\n      <td>Thurgau</td>\n      <td>NaN</td>\n      <td>9036.0</td>\n      <td>1.756023e+09</td>\n      <td>Low</td>\n    </tr>\n  </tbody>\n</table>\n</div>"
     },
     "execution_count": 43,
     "metadata": {},
     "output_type": "execute_result"
    }
   ],
   "source": [
    "bins = [0, df['population'].quantile(0.25), df['population'].quantile(0.5), df['population'].quantile(0.75), df['population'].quantile(1)]\n",
    "labels = ['Low', 'Mid', 'High', 'Over']\n",
    "df['population_level'] = pd.cut(df['population'], bins=bins, labels=labels, include_lowest=True)\n",
    "df.head()"
   ]
  },
  {
   "cell_type": "markdown",
   "id": "9a2da931-7aef-4ec8-9631-a7f84928a572",
   "metadata": {},
   "source": [
    "## Preprocess"
   ]
  },
  {
   "cell_type": "markdown",
   "id": "9896cb24-ac84-4bf7-986f-44e8dd46da7c",
   "metadata": {},
   "source": [
    "<div dir=\"rtl\">\n",
    "\n",
    "<p dir=rtl style=\"direction: rtl;text-align: justify;line-height:200%;font-family:vazir;font-size:medium\">\n",
    "<font face=\"vazir\" size=3>\n",
    "    در این بخش باید ستون های خالی داده ها راحذف کرده و در نهایت تمامی ستون ها را به داده های عددی تبدیل کنید به جز ستون اضافه شده\n",
    "</font>\n",
    "</p>\n",
    "</div>"
   ]
  },
  {
   "cell_type": "code",
   "execution_count": 44,
   "id": "926e1b30-615a-4e8a-a9ee-27b5c91ff627",
   "metadata": {
    "ExecuteTime": {
     "end_time": "2023-11-24T22:49:26.724738Z",
     "start_time": "2023-11-24T22:49:26.620329Z"
    }
   },
   "outputs": [
    {
     "data": {
      "text/plain": "   ville  ville_ascii      lat       lng  pays  iso2  iso3  admin_nom  \\\n0      0            0  43.3667   -8.3833   163    54    54        936   \n1      1            1  13.3939  108.4408   193   189   189        966   \n2      2            2  55.0444    9.4181    47    46    48       2866   \n3      3            3  50.7756    6.0836    66    44    45       2109   \n5      4            4  57.0500    9.9167    47    46    48       2096   \n\n   capital  population            id population_level  \n0        1    245468.0  1.724417e+09             Over  \n1        1     53720.0  1.704946e+09             Over  \n2        1     16401.0  1.208000e+09              Mid  \n3        1    249070.0  1.276806e+09             Over  \n5        0    143598.0  1.208789e+09             Over  ",
      "text/html": "<div>\n<style scoped>\n    .dataframe tbody tr th:only-of-type {\n        vertical-align: middle;\n    }\n\n    .dataframe tbody tr th {\n        vertical-align: top;\n    }\n\n    .dataframe thead th {\n        text-align: right;\n    }\n</style>\n<table border=\"1\" class=\"dataframe\">\n  <thead>\n    <tr style=\"text-align: right;\">\n      <th></th>\n      <th>ville</th>\n      <th>ville_ascii</th>\n      <th>lat</th>\n      <th>lng</th>\n      <th>pays</th>\n      <th>iso2</th>\n      <th>iso3</th>\n      <th>admin_nom</th>\n      <th>capital</th>\n      <th>population</th>\n      <th>id</th>\n      <th>population_level</th>\n    </tr>\n  </thead>\n  <tbody>\n    <tr>\n      <th>0</th>\n      <td>0</td>\n      <td>0</td>\n      <td>43.3667</td>\n      <td>-8.3833</td>\n      <td>163</td>\n      <td>54</td>\n      <td>54</td>\n      <td>936</td>\n      <td>1</td>\n      <td>245468.0</td>\n      <td>1.724417e+09</td>\n      <td>Over</td>\n    </tr>\n    <tr>\n      <th>1</th>\n      <td>1</td>\n      <td>1</td>\n      <td>13.3939</td>\n      <td>108.4408</td>\n      <td>193</td>\n      <td>189</td>\n      <td>189</td>\n      <td>966</td>\n      <td>1</td>\n      <td>53720.0</td>\n      <td>1.704946e+09</td>\n      <td>Over</td>\n    </tr>\n    <tr>\n      <th>2</th>\n      <td>2</td>\n      <td>2</td>\n      <td>55.0444</td>\n      <td>9.4181</td>\n      <td>47</td>\n      <td>46</td>\n      <td>48</td>\n      <td>2866</td>\n      <td>1</td>\n      <td>16401.0</td>\n      <td>1.208000e+09</td>\n      <td>Mid</td>\n    </tr>\n    <tr>\n      <th>3</th>\n      <td>3</td>\n      <td>3</td>\n      <td>50.7756</td>\n      <td>6.0836</td>\n      <td>66</td>\n      <td>44</td>\n      <td>45</td>\n      <td>2109</td>\n      <td>1</td>\n      <td>249070.0</td>\n      <td>1.276806e+09</td>\n      <td>Over</td>\n    </tr>\n    <tr>\n      <th>5</th>\n      <td>4</td>\n      <td>4</td>\n      <td>57.0500</td>\n      <td>9.9167</td>\n      <td>47</td>\n      <td>46</td>\n      <td>48</td>\n      <td>2096</td>\n      <td>0</td>\n      <td>143598.0</td>\n      <td>1.208789e+09</td>\n      <td>Over</td>\n    </tr>\n  </tbody>\n</table>\n</div>"
     },
     "execution_count": 44,
     "metadata": {},
     "output_type": "execute_result"
    }
   ],
   "source": [
    "df = df.dropna()\n",
    "label_encoder = LabelEncoder()\n",
    "categorical_columns = ['ville', 'ville_ascii', 'pays', 'iso2', 'iso3', 'admin_nom', 'capital']\n",
    "for col in categorical_columns:\n",
    "    df[col] = label_encoder.fit_transform(df[col])\n",
    "df.head()"
   ]
  },
  {
   "cell_type": "markdown",
   "id": "29659ac3-64d9-49be-b3cc-3161735608d2",
   "metadata": {},
   "source": [
    "<div dir=\"rtl\">\n",
    "\n",
    "<p dir=rtl style=\"direction: rtl;text-align: justify;line-height:200%;font-family:vazir;font-size:medium\">\n",
    "<font face=\"vazir\" size=3>\n",
    " حال باید داده های به دست آمده از قسمت قبلی را نرمال سازی کنید.\n",
    "</font>\n",
    "</p>\n",
    "</div>"
   ]
  },
  {
   "cell_type": "code",
   "execution_count": 45,
   "id": "81cf9e8d-690c-40e0-bd4b-7332c00fea75",
   "metadata": {
    "ExecuteTime": {
     "end_time": "2023-11-24T22:49:32.423727Z",
     "start_time": "2023-11-24T22:49:32.195960Z"
    }
   },
   "outputs": [
    {
     "data": {
      "text/plain": "      ville  ville_ascii       lat       lng      pays      iso2      iso3  \\\n0  0.000000     0.000000  0.782664  0.472727  0.831633  0.275510  0.275510   \n1  0.000096     0.000097  0.544021  0.801105  0.984694  0.964286  0.964286   \n2  0.000193     0.000193  0.875642  0.522764  0.239796  0.234694  0.244898   \n3  0.000289     0.000290  0.841653  0.513391  0.336735  0.224490  0.229592   \n5  0.000386     0.000386  0.891610  0.524166  0.239796  0.234694  0.244898   \n\n   admin_nom  capital  population        id population_level  \n0   0.270677      0.5    0.006506  0.802269             Over  \n1   0.279352      0.5    0.001424  0.780585             Over  \n2   0.828803      0.5    0.000435  0.227175              Mid  \n3   0.609890      0.5    0.006601  0.303799             Over  \n5   0.606131      0.0    0.003806  0.228054             Over  ",
      "text/html": "<div>\n<style scoped>\n    .dataframe tbody tr th:only-of-type {\n        vertical-align: middle;\n    }\n\n    .dataframe tbody tr th {\n        vertical-align: top;\n    }\n\n    .dataframe thead th {\n        text-align: right;\n    }\n</style>\n<table border=\"1\" class=\"dataframe\">\n  <thead>\n    <tr style=\"text-align: right;\">\n      <th></th>\n      <th>ville</th>\n      <th>ville_ascii</th>\n      <th>lat</th>\n      <th>lng</th>\n      <th>pays</th>\n      <th>iso2</th>\n      <th>iso3</th>\n      <th>admin_nom</th>\n      <th>capital</th>\n      <th>population</th>\n      <th>id</th>\n      <th>population_level</th>\n    </tr>\n  </thead>\n  <tbody>\n    <tr>\n      <th>0</th>\n      <td>0.000000</td>\n      <td>0.000000</td>\n      <td>0.782664</td>\n      <td>0.472727</td>\n      <td>0.831633</td>\n      <td>0.275510</td>\n      <td>0.275510</td>\n      <td>0.270677</td>\n      <td>0.5</td>\n      <td>0.006506</td>\n      <td>0.802269</td>\n      <td>Over</td>\n    </tr>\n    <tr>\n      <th>1</th>\n      <td>0.000096</td>\n      <td>0.000097</td>\n      <td>0.544021</td>\n      <td>0.801105</td>\n      <td>0.984694</td>\n      <td>0.964286</td>\n      <td>0.964286</td>\n      <td>0.279352</td>\n      <td>0.5</td>\n      <td>0.001424</td>\n      <td>0.780585</td>\n      <td>Over</td>\n    </tr>\n    <tr>\n      <th>2</th>\n      <td>0.000193</td>\n      <td>0.000193</td>\n      <td>0.875642</td>\n      <td>0.522764</td>\n      <td>0.239796</td>\n      <td>0.234694</td>\n      <td>0.244898</td>\n      <td>0.828803</td>\n      <td>0.5</td>\n      <td>0.000435</td>\n      <td>0.227175</td>\n      <td>Mid</td>\n    </tr>\n    <tr>\n      <th>3</th>\n      <td>0.000289</td>\n      <td>0.000290</td>\n      <td>0.841653</td>\n      <td>0.513391</td>\n      <td>0.336735</td>\n      <td>0.224490</td>\n      <td>0.229592</td>\n      <td>0.609890</td>\n      <td>0.5</td>\n      <td>0.006601</td>\n      <td>0.303799</td>\n      <td>Over</td>\n    </tr>\n    <tr>\n      <th>5</th>\n      <td>0.000386</td>\n      <td>0.000386</td>\n      <td>0.891610</td>\n      <td>0.524166</td>\n      <td>0.239796</td>\n      <td>0.234694</td>\n      <td>0.244898</td>\n      <td>0.606131</td>\n      <td>0.0</td>\n      <td>0.003806</td>\n      <td>0.228054</td>\n      <td>Over</td>\n    </tr>\n  </tbody>\n</table>\n</div>"
     },
     "execution_count": 45,
     "metadata": {},
     "output_type": "execute_result"
    }
   ],
   "source": [
    "normalize = [col for col in df.columns if col != 'population_level']\n",
    "scaler = MinMaxScaler()\n",
    "df[normalize] = scaler.fit_transform(df[normalize])\n",
    "df.head()"
   ]
  },
  {
   "cell_type": "markdown",
   "id": "ec0e35d0-8209-45c5-9d34-6156d33010d9",
   "metadata": {},
   "source": [
    "## Split"
   ]
  },
  {
   "cell_type": "markdown",
   "id": "9d9b892a-d9c5-4bdf-93b1-04f93d09479c",
   "metadata": {},
   "source": [
    "<div dir=\"rtl\">\n",
    "\n",
    "<p dir=rtl style=\"direction: rtl;text-align: justify;line-height:200%;font-family:vazir;font-size:medium\">\n",
    "<font face=\"vazir\" size=3>\n",
    "داده ها را به دو بخش تست و آموزش با نسبت 80 به 20 تقسیم کنید.\n",
    "</font>\n",
    "</p>\n",
    "</div>"
   ]
  },
  {
   "cell_type": "code",
   "execution_count": 46,
   "id": "4f662ca8-ed93-4d18-a7f4-f887f9bdbbdc",
   "metadata": {
    "ExecuteTime": {
     "end_time": "2023-11-24T22:49:36.517495Z",
     "start_time": "2023-11-24T22:49:36.473513Z"
    }
   },
   "outputs": [
    {
     "name": "stdout",
     "output_type": "stream",
     "text": [
      "(8590, 10)\n",
      "(2148, 10)\n"
     ]
    }
   ],
   "source": [
    "target = df[\"population\"]\n",
    "features = df.drop([\"population\", \"population_level\"], axis=1)  \n",
    "x_train, x_test, y_train, y_test = train_test_split(features, target, test_size=0.2, random_state=42)\n",
    "print(x_train.shape)\n",
    "print(x_test.shape)"
   ]
  },
  {
   "cell_type": "markdown",
   "id": "134641a2-081d-44f1-adc0-95f0b8f1c38b",
   "metadata": {},
   "source": [
    "## Regression"
   ]
  },
  {
   "cell_type": "markdown",
   "id": "e9cf9c80-7547-4c95-84e7-a9093a8ff6ba",
   "metadata": {},
   "source": [
    "<div dir=\"rtl\">\n",
    "\n",
    "<p dir=rtl style=\"direction: rtl;text-align: justify;line-height:200%;font-family:vazir;font-size:medium\">\n",
    "<font face=\"vazir\" size=3>\n",
    "برای این قسمت باید ستون Population  را به عنوان برچسب درنظر گرفته و از بقیه ستون هابه عنوان فیچر استفاده کنید\n",
    "</font\n",
    "</p>\n",
    "</div>\n",
    "\n",
    "<div dir=\"rtl\">\n",
    "<p dir=rtl style=\"direction: rtl;text-align: justify;line-height:200%;font-family:vazir;font-size:medium\">\n",
    "<font face=\"vazir\" size=3>\n",
    "باید از رگرسیون خطی\n",
    "،درجه 1 و درجه 2 استفاده کرده و در هر مورد دقت و خطای میانگین مربعات را بدست آورده و نتایج را باهم مقایسه کنید.</font\n",
    "</p>\n",
    "    \n",
    "</div>"
   ]
  },
  {
   "cell_type": "code",
   "execution_count": 47,
   "id": "d86ab34a-c2a0-4de9-953e-875a6c5a8e19",
   "metadata": {
    "ExecuteTime": {
     "end_time": "2023-11-24T22:49:48.474021Z",
     "start_time": "2023-11-24T22:49:47.994805Z"
    }
   },
   "outputs": [
    {
     "name": "stdout",
     "output_type": "stream",
     "text": [
      "Mean Squared Error for Test Linear: 0.0019668248958161685\n",
      "Mean Squared Error for Train Linear: 0.0010452179229911024\n",
      "\n",
      "Mean Squared Error for Test 2 Degree: 0.0017402269372090795\n",
      "Mean Squared Error for Train 2 Degree: 0.0008990815052160049\n"
     ]
    }
   ],
   "source": [
    "linear_regression = LinearRegression()\n",
    "linear_regression.fit(x_train, y_train)\n",
    "y_pred_train = linear_regression.predict(x_train)\n",
    "y_pred_test = linear_regression.predict(x_test)\n",
    "mse_train = mean_squared_error(y_train, y_pred_train)\n",
    "mse_test = mean_squared_error(y_test, y_pred_test)\n",
    "polynomial_features = PolynomialFeatures(degree=2)\n",
    "x_polynomial_train = polynomial_features.fit_transform(x_train)\n",
    "x_polynomial_test = polynomial_features.fit_transform(x_test)\n",
    "linear_regression_2 = LinearRegression()\n",
    "linear_regression_2.fit(x_polynomial_train,y_train)\n",
    "y_pred_2_train = linear_regression_2.predict(x_polynomial_train)\n",
    "y_pred_2_test = linear_regression_2.predict(x_polynomial_test)\n",
    "mse_2_train = mean_squared_error(y_train, y_pred_2_train)\n",
    "mse_2_test = mean_squared_error(y_test, y_pred_2_test)\n",
    "print(f\"Mean Squared Error for Test Linear: {mse_test}\")\n",
    "print(f\"Mean Squared Error for Train Linear: {mse_train}\")\n",
    "print()\n",
    "print(f\"Mean Squared Error for Test 2 Degree: {mse_2_test}\")\n",
    "print(f\"Mean Squared Error for Train 2 Degree: {mse_2_train}\")"
   ]
  },
  {
   "cell_type": "markdown",
   "id": "32ab615d-f77d-4e93-bbd9-a7c58845be79",
   "metadata": {},
   "source": [
    "## Classification"
   ]
  },
  {
   "cell_type": "markdown",
   "id": "0cfc1ba8-be9d-4a68-8911-f8cb4369e321",
   "metadata": {},
   "source": [
    "<div dir=\"rtl\">\n",
    "\n",
    "<p dir=rtl style=\"direction: rtl;text-align: justify;line-height:200%;font-family:vazir;font-size:medium\">\n",
    "<font face=\"vazir\" size=3>\n",
    "برای این قسمت باید ستون Population Level  را به عنوان برچسب درنظر گرفته و از بقیه ستون هابه عنوان فیچر استفاده کنید\n",
    "همچنین ستون Population را نیز حذف کنید\n",
    "    </font>\n",
    "</p>\n",
    "</div>\n",
    "\n",
    "<div dir=\"rtl\">\n",
    "<p dir=rtl style=\"direction: rtl;text-align: justify;line-height:200%;font-family:vazir;font-size:medium\">\n",
    "در هر فسمت باید الگوریتم مشخص شده را پیاده سازی کرده و درنهایت نتیجه را با بقیه قسمت ها مقایسه کنید.\n",
    "    \n",
    "</p>\n",
    "    \n",
    "</div>"
   ]
  },
  {
   "cell_type": "markdown",
   "id": "17aab964-d818-41c2-9085-e3dc6fb736a9",
   "metadata": {},
   "source": [
    "### Decision Tree (Entropy)"
   ]
  },
  {
   "cell_type": "code",
   "execution_count": 48,
   "id": "b3d67df5-dcb3-4384-a826-37d521e45fde",
   "metadata": {
    "ExecuteTime": {
     "end_time": "2023-11-24T22:49:54.034361Z",
     "start_time": "2023-11-24T22:49:53.921815Z"
    }
   },
   "outputs": [
    {
     "name": "stdout",
     "output_type": "stream",
     "text": [
      "Accuracy for Decision Tree Train (Entropy): 0.4771827706635623\n",
      "Accuracy for Decision Tree Test (Entropy): 0.4729981378026071\n"
     ]
    }
   ],
   "source": [
    "features = df.drop([\"population\", \"population_level\"], axis=1)\n",
    "target = df[\"population_level\"]\n",
    "x_train, x_test, y_train, y_test = train_test_split(features, target, test_size=0.2, random_state=42)\n",
    "dt_classifier = DecisionTreeClassifier(criterion='entropy', max_depth=5, min_samples_leaf=5, random_state=42)\n",
    "dt_classifier.fit(x_train, y_train)\n",
    "y_pred_train = dt_classifier.predict(x_train)\n",
    "y_pred_test = dt_classifier.predict(x_test)\n",
    "accuracy_train = accuracy_score(y_train, y_pred_train)\n",
    "accuracy_test = accuracy_score(y_test, y_pred_test)\n",
    "print(f\"Accuracy for Decision Tree Train (Entropy): {accuracy_train}\")\n",
    "print(f\"Accuracy for Decision Tree Test (Entropy): {accuracy_test}\")"
   ]
  },
  {
   "cell_type": "markdown",
   "id": "e78e36a4-db5f-4575-b4bf-adbe415a3608",
   "metadata": {},
   "source": [
    "### Random Forest (Entropy)"
   ]
  },
  {
   "cell_type": "code",
   "execution_count": 49,
   "id": "1a300801-83f0-4a99-8f8f-5912f5915379",
   "metadata": {
    "ExecuteTime": {
     "end_time": "2023-11-24T22:50:07.544045Z",
     "start_time": "2023-11-24T22:49:56.446394Z"
    }
   },
   "outputs": [
    {
     "name": "stdout",
     "output_type": "stream",
     "text": [
      "Accuracy for Random Forest Train (Entropy): 0.7508731082654249\n",
      "Accuracy for Random Forest Test (Entropy): 0.5456238361266295\n"
     ]
    }
   ],
   "source": [
    "rf_classifier = RandomForestClassifier(n_estimators=1000, max_leaf_nodes=400, n_jobs=-1, criterion='entropy')\n",
    "rf_classifier.fit(x_train, y_train)\n",
    "y_pred_train = rf_classifier.predict(x_train)\n",
    "y_pred_test = rf_classifier.predict(x_test)\n",
    "accuracy_train = accuracy_score(y_train, y_pred_train)\n",
    "accuracy_test = accuracy_score(y_test, y_pred_test)\n",
    "print(f\"Accuracy for Random Forest Train (Entropy): {accuracy_train}\")\n",
    "print(f\"Accuracy for Random Forest Test (Entropy): {accuracy_test}\")"
   ]
  },
  {
   "cell_type": "markdown",
   "id": "ca6e9942-7d04-4851-aa31-42926bc4a2f2",
   "metadata": {},
   "source": [
    "### KNN K=2"
   ]
  },
  {
   "cell_type": "code",
   "execution_count": 50,
   "id": "295dd113-5946-42a5-a97f-d730c58f1f0c",
   "metadata": {
    "ExecuteTime": {
     "end_time": "2023-11-24T22:50:07.871331Z",
     "start_time": "2023-11-24T22:50:07.541415Z"
    }
   },
   "outputs": [
    {
     "name": "stdout",
     "output_type": "stream",
     "text": [
      "Accuracy for KNN (K=2) Train: 0.7231664726426077\n",
      "Accuracy for KNN (K=2) Test: 0.44320297951582865\n"
     ]
    }
   ],
   "source": [
    "knn_classifier = KNeighborsClassifier(n_neighbors=2)\n",
    "knn_classifier.fit(x_train, y_train)\n",
    "y_pred_train = knn_classifier.predict(x_train)\n",
    "y_pred_test = knn_classifier.predict(x_test)\n",
    "accuracy_train = accuracy_score(y_train, y_pred_train)\n",
    "accuracy_test = accuracy_score(y_test, y_pred_test)\n",
    "print(f\"Accuracy for KNN (K=2) Train: {accuracy_train}\")\n",
    "print(f\"Accuracy for KNN (K=2) Test: {accuracy_test}\")"
   ]
  },
  {
   "cell_type": "markdown",
   "id": "99ad964b-2f5c-45d0-b2aa-c4c785d5e711",
   "metadata": {},
   "source": [
    "### KNN K=3"
   ]
  },
  {
   "cell_type": "code",
   "execution_count": 51,
   "id": "180e81db-71ed-4e75-8b5f-41da93d5498f",
   "metadata": {
    "ExecuteTime": {
     "end_time": "2023-11-24T22:50:08.185250Z",
     "start_time": "2023-11-24T22:50:07.874706Z"
    }
   },
   "outputs": [
    {
     "name": "stdout",
     "output_type": "stream",
     "text": [
      "Accuracy for KNN (K=3) Train: 0.6798603026775321\n",
      "Accuracy for KNN (K=3) Test: 0.48789571694599626\n"
     ]
    }
   ],
   "source": [
    "knn_classifier = KNeighborsClassifier(n_neighbors=3)\n",
    "knn_classifier.fit(x_train, y_train)\n",
    "y_pred_train = knn_classifier.predict(x_train)\n",
    "y_pred_test = knn_classifier.predict(x_test)\n",
    "accuracy_train = accuracy_score(y_train, y_pred_train)\n",
    "accuracy_test = accuracy_score(y_test, y_pred_test)\n",
    "print(f\"Accuracy for KNN (K=3) Train: {accuracy_train}\")\n",
    "print(f\"Accuracy for KNN (K=3) Test: {accuracy_test}\")"
   ]
  },
  {
   "cell_type": "markdown",
   "id": "75073d5c-6704-4b5c-93e8-8c72e4ef69f2",
   "metadata": {},
   "source": [
    "### KNN K=5"
   ]
  },
  {
   "cell_type": "code",
   "execution_count": 52,
   "id": "b5c76909-ab69-4b03-8919-b372dace8feb",
   "metadata": {
    "ExecuteTime": {
     "end_time": "2023-11-24T22:50:08.529068Z",
     "start_time": "2023-11-24T22:50:08.180537Z"
    }
   },
   "outputs": [
    {
     "name": "stdout",
     "output_type": "stream",
     "text": [
      "Accuracy for KNN (K=5) Train: 0.6315483119906868\n",
      "Accuracy for KNN (K=5) Test: 0.49813780260707635\n"
     ]
    }
   ],
   "source": [
    "knn_classifier = KNeighborsClassifier(n_neighbors=5)\n",
    "knn_classifier.fit(x_train, y_train)\n",
    "y_pred_train = knn_classifier.predict(x_train)\n",
    "y_pred_test = knn_classifier.predict(x_test)\n",
    "accuracy_train = accuracy_score(y_train, y_pred_train)\n",
    "accuracy_test = accuracy_score(y_test, y_pred_test)\n",
    "print(f\"Accuracy for KNN (K=5) Train: {accuracy_train}\")\n",
    "print(f\"Accuracy for KNN (K=5) Test: {accuracy_test}\")"
   ]
  },
  {
   "cell_type": "markdown",
   "id": "2531fe89-c5b3-4fe5-8efa-a7f141f8e61e",
   "metadata": {},
   "source": [
    "### SVM (Linear)"
   ]
  },
  {
   "cell_type": "code",
   "execution_count": 53,
   "id": "eeb52dae-48cb-4785-beaf-c8a6069986c2",
   "metadata": {
    "ExecuteTime": {
     "end_time": "2023-11-24T22:50:11.610090Z",
     "start_time": "2023-11-24T22:50:08.526490Z"
    }
   },
   "outputs": [
    {
     "name": "stdout",
     "output_type": "stream",
     "text": [
      "Accuracy for SVM Linear Train: 0.4174621653084983\n",
      "Accuracy for SVM Linear Test: 0.4334264432029795\n"
     ]
    }
   ],
   "source": [
    "svm_classifier = SVC(kernel='linear')\n",
    "svm_classifier.fit(x_train, y_train)\n",
    "y_pred_train = svm_classifier.predict(x_train)\n",
    "y_pred_test = svm_classifier.predict(x_test)\n",
    "accuracy_train = accuracy_score(y_train, y_pred_train)\n",
    "accuracy_test = accuracy_score(y_test, y_pred_test)\n",
    "print(f\"Accuracy for SVM Linear Train: {accuracy_train}\")\n",
    "print(f\"Accuracy for SVM Linear Test: {accuracy_test}\")"
   ]
  },
  {
   "cell_type": "markdown",
   "id": "d99d0a22-f302-497b-9c84-ef028e0bb9b2",
   "metadata": {},
   "source": [
    "### SVM (Non-linear)"
   ]
  },
  {
   "cell_type": "code",
   "execution_count": 54,
   "id": "decea248-30f7-4fbe-8119-5da191d51f58",
   "metadata": {
    "ExecuteTime": {
     "end_time": "2023-11-24T22:50:17.743537Z",
     "start_time": "2023-11-24T22:50:11.609302Z"
    }
   },
   "outputs": [
    {
     "name": "stdout",
     "output_type": "stream",
     "text": [
      "Accuracy for SVM RBF Train: 0.48381839348079164\n",
      "Accuracy for SVM RBF Test: 0.4823091247672253\n"
     ]
    }
   ],
   "source": [
    "svm_classifier = SVC(kernel='rbf')\n",
    "svm_classifier.fit(x_train, y_train)\n",
    "y_pred_train = svm_classifier.predict(x_train)\n",
    "y_pred_test = svm_classifier.predict(x_test)\n",
    "accuracy_train = accuracy_score(y_train, y_pred_train)\n",
    "accuracy_test = accuracy_score(y_test, y_pred_test)\n",
    "print(f\"Accuracy for SVM RBF Train: {accuracy_train}\")\n",
    "print(f\"Accuracy for SVM RBF Test: {accuracy_test}\")"
   ]
  },
  {
   "cell_type": "code",
   "execution_count": null,
   "outputs": [],
   "source": [],
   "metadata": {
    "collapsed": false
   },
   "id": "f769e06c30f39cb1"
  }
 ],
 "metadata": {
  "kernelspec": {
   "display_name": "Python 3 (ipykernel)",
   "language": "python",
   "name": "python3"
  },
  "language_info": {
   "codemirror_mode": {
    "name": "ipython",
    "version": 3
   },
   "file_extension": ".py",
   "mimetype": "text/x-python",
   "name": "python",
   "nbconvert_exporter": "python",
   "pygments_lexer": "ipython3",
   "version": "3.10.12"
  }
 },
 "nbformat": 4,
 "nbformat_minor": 5
}
